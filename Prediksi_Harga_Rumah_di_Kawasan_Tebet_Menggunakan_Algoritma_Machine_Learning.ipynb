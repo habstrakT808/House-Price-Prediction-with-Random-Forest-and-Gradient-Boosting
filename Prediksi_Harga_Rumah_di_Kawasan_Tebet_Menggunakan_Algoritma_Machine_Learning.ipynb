{
  "nbformat": 4,
  "nbformat_minor": 0,
  "metadata": {
    "colab": {
      "provenance": [],
      "authorship_tag": "ABX9TyP2Yg17jXjFIYs7WsQvEsto",
      "include_colab_link": true
    },
    "kernelspec": {
      "name": "python3",
      "display_name": "Python 3"
    },
    "language_info": {
      "name": "python"
    }
  },
  "cells": [
    {
      "cell_type": "markdown",
      "metadata": {
        "id": "view-in-github",
        "colab_type": "text"
      },
      "source": [
        "<a href=\"https://colab.research.google.com/github/habstrakT808/House-Price-Prediction-with-Random-Forest-and-Gradient-Boosting/blob/main/Prediksi_Harga_Rumah_di_Kawasan_Tebet_Menggunakan_Algoritma_Machine_Learning.ipynb\" target=\"_parent\"><img src=\"https://colab.research.google.com/assets/colab-badge.svg\" alt=\"Open In Colab\"/></a>"
      ]
    },
    {
      "cell_type": "markdown",
      "source": [
        "# **Prediksi Harga Rumah di Kawasan Tebet Menggunakan Algoritma Machine Learning**"
      ],
      "metadata": {
        "id": "67dSrW6lutGy"
      }
    },
    {
      "cell_type": "markdown",
      "source": [
        "## **Deskripsi Proyek**\n",
        "Proyek ini bertujuan untuk membangun sebuah model prediksi harga rumah di kawasan Tebet dengan menggunakan pendekatan machine learning. Dataset yang digunakan berisi informasi mengenai berbagai fitur properti rumah, seperti luas bangunan (LB), luas tanah (LT), jumlah kamar tidur (KT), jumlah kamar mandi (KM), kapasitas garasi (GRS), dan harga rumah (HARGA). Dalam proyek ini, kita akan melakukan eksplorasi data untuk memahami pola harga rumah, menangani data hilang, dan melakukan pra-pemrosesan agar dataset siap digunakan untuk pelatihan model.\n",
        "\n",
        "Link Dataset: [Kaggle Dataset](https://www.kaggle.com/datasets/wisnuanggara/daftar-harga-rumah?resource=download)\n",
        "\n",
        "Berbagai algoritma machine learning, termasuk *Random Forest Regressor*, dan *Gradient Boosting* akan diterapkan untuk membangun model prediksi yang dapat memprediksi harga rumah berdasarkan fitur-fitur yang ada. Model ini diharapkan dapat memberikan wawasan yang lebih baik dalam memperkirakan harga properti, yang sangat relevan bagi pembeli atau investor properti.\n",
        "\n",
        "### **Langkah-langkah Proyek:**\n",
        "1. Persiapan dan Import Library\n",
        "2. Pra-pemrosesan Data\n",
        "3. Pemilihan Fitur, Pembagian Data, dan Scaling\n",
        "4. Membangun dan Menyempurnakan Model dengan Hyperparameter Tuning\n",
        "5. Evaluasi Model dengan Metrik Kinerja\n",
        "6. Visualisasi Hasil Prediksi\n",
        "7. Eksekusi Utama dan Integrasi Semua Langkah\n",
        "8. Prediksi Harga Rumah Berdasarkan Spesifikasi\n",
        "\n",
        "Melalui proyek ini, kita tidak hanya berfokus pada pembangunan model prediksi, tetapi juga berusaha memberikan pemahaman mendalam mengenai pengolahan dan analisis data properti yang dapat diaplikasikan dalam berbagai kasus dunia nyata.\n",
        "\n",
        "### **Tujuan:**\n",
        "- Membangun model prediksi harga rumah yang akurat.\n",
        "- Menyediakan alat untuk membantu pembeli dan investor properti dalam menentukan harga rumah yang wajar.\n"
      ],
      "metadata": {
        "id": "rf7CX57RrUan"
      }
    },
    {
      "cell_type": "markdown",
      "source": [
        "## **Langkah 1: Persiapan dan Import Library**"
      ],
      "metadata": {
        "id": "Kk5dOg2jq1Z5"
      }
    },
    {
      "cell_type": "code",
      "source": [
        "import pandas as pd\n",
        "import numpy as np\n",
        "from sklearn.model_selection import train_test_split, cross_val_score, GridSearchCV\n",
        "from sklearn.preprocessing import StandardScaler, RobustScaler\n",
        "from sklearn.ensemble import RandomForestRegressor, GradientBoostingRegressor\n",
        "from sklearn.metrics import mean_absolute_error, mean_squared_error, r2_score\n",
        "import matplotlib.pyplot as plt\n",
        "import seaborn as sns"
      ],
      "metadata": {
        "id": "KZ3NaUTk5zR1"
      },
      "execution_count": null,
      "outputs": []
    },
    {
      "cell_type": "markdown",
      "source": [
        "**Penjelasan**:  \n",
        "Pada langkah pertama, kode ini melakukan inisialisasi dan import berbagai library yang diperlukan untuk analisis data dan pembangunan model.  \n",
        "- `pandas` dan `numpy` digunakan untuk manipulasi data dan operasi numerik.\n",
        "- `train_test_split` dari `sklearn.model_selection` digunakan untuk membagi dataset menjadi data latih dan uji.\n",
        "- `StandardScaler` dan `RobustScaler` dari `sklearn.preprocessing` digunakan untuk menormalkan data dengan pendekatan yang berbeda.\n",
        "- `RandomForestRegressor` dan `GradientBoostingRegressor` dari `sklearn.ensemble` adalah algoritma regresi yang digunakan untuk model prediksi harga rumah.\n",
        "- `mean_absolute_error`, `mean_squared_error`, dan `r2_score` digunakan untuk mengevaluasi kinerja model.\n",
        "- `matplotlib` dan `seaborn` digunakan untuk visualisasi data dan hasil analisis.\n",
        "\n",
        "Kode ini menyusun fondasi untuk membangun model machine learning dan evaluasi menggunakan regresi pada dataset yang dimiliki."
      ],
      "metadata": {
        "id": "MRJBdljprPqv"
      }
    },
    {
      "cell_type": "markdown",
      "source": [
        "## **Langkah 2: Pra-pemrosesan Data dan Feature Engineering**"
      ],
      "metadata": {
        "id": "0l4bLeeJ9CxV"
      }
    },
    {
      "cell_type": "code",
      "source": [
        "def prepare_data(df):\n",
        "    # 2.1 Menangani outlier dengan IQR method\n",
        "    def remove_outliers(df, column):\n",
        "        Q1 = df[column].quantile(0.25)\n",
        "        Q3 = df[column].quantile(0.75)\n",
        "        IQR = Q3 - Q1\n",
        "        lower_bound = Q1 - 1.5 * IQR\n",
        "        upper_bound = Q3 + 1.5 * IQR\n",
        "        return df[(df[column] >= lower_bound) & (df[column] <= upper_bound)]\n",
        "\n",
        "    # Hapus outlier dari kolom numerik\n",
        "    for column in ['LB', 'LT', 'HARGA']:\n",
        "        df = remove_outliers(df, column)\n",
        "\n",
        "    # 2.2 Feature Engineering\n",
        "    # Rasio luas bangunan terhadap luas tanah\n",
        "    df['LB_LT_RATIO'] = df['LB'] / df['LT']\n",
        "\n",
        "    # Kamar per luas bangunan\n",
        "    df['ROOM_DENSITY'] = (df['KT'] + df['KM']) / df['LB']\n",
        "\n",
        "    # Total ruangan\n",
        "    df['TOTAL_ROOMS'] = df['KT'] + df['KM']\n",
        "\n",
        "    return df"
      ],
      "metadata": {
        "id": "nX4wkWb_9DRD"
      },
      "execution_count": null,
      "outputs": []
    },
    {
      "cell_type": "markdown",
      "source": [
        "**Penjelasan**:  \n",
        "Pada langkah kedua, kode ini mempersiapkan data untuk analisis lebih lanjut dengan menangani outlier dan menambahkan fitur baru (feature engineering).  \n",
        "- **Menangani Outlier**:  \n",
        "  Fungsi `remove_outliers` menggunakan metode Interquartile Range (IQR) untuk mendeteksi dan menghapus nilai-nilai yang jauh dari rentang distribusi normal pada kolom yang relevan seperti `LB` (Luas Bangunan), `LT` (Luas Tanah), dan `HARGA`.  \n",
        "- **Feature Engineering**:  \n",
        "  Beberapa fitur baru ditambahkan untuk meningkatkan kualitas data dan model:\n",
        "  - **`LB_LT_RATIO`**: Rasio antara luas bangunan (`LB`) dan luas tanah (`LT`) untuk memberikan wawasan tentang efisiensi ruang.\n",
        "  - **`ROOM_DENSITY`**: Rasio antara jumlah kamar tidur (`KT`) dan kamar mandi (`KM`) terhadap luas bangunan, menggambarkan kepadatan ruangan per luas bangunan.\n",
        "  - **`TOTAL_ROOMS`**: Jumlah total kamar (kamar tidur + kamar mandi) yang dapat memberikan gambaran umum tentang ukuran rumah.\n",
        "\n",
        "Dengan pra-pemrosesan ini, dataset menjadi lebih bersih dan fitur-fitur yang lebih informatif siap digunakan dalam model machine learning."
      ],
      "metadata": {
        "id": "8X0KWpGn8-J0"
      }
    },
    {
      "cell_type": "markdown",
      "source": [
        "## **Langkah 3: Pemilihan Fitur, Pembagian Data, dan Scaling**"
      ],
      "metadata": {
        "id": "TZHBimCUt-FX"
      }
    },
    {
      "cell_type": "code",
      "source": [
        "def preprocess_data(df):\n",
        "    # 3.1 Pemilihan fitur\n",
        "    features = ['LB', 'LT', 'KT', 'KM', 'GRS', 'LB_LT_RATIO', 'ROOM_DENSITY', 'TOTAL_ROOMS']\n",
        "    X = df[features]\n",
        "    y = df['HARGA']\n",
        "\n",
        "    # 3.2 Train-test split\n",
        "    X_train, X_test, y_train, y_test = train_test_split(X, y, test_size=0.2, random_state=42)\n",
        "\n",
        "    # 3.3 Scaling menggunakan RobustScaler (lebih tahan terhadap outlier)\n",
        "    scaler = RobustScaler()\n",
        "    X_train_scaled = scaler.fit_transform(X_train)\n",
        "    X_test_scaled = scaler.transform(X_test)\n",
        "\n",
        "    # Kembalikan ke DataFrame\n",
        "    X_train_scaled = pd.DataFrame(X_train_scaled, columns=features)\n",
        "    X_test_scaled = pd.DataFrame(X_test_scaled, columns=features)\n",
        "\n",
        "    return X_train_scaled, X_test_scaled, y_train, y_test, scaler"
      ],
      "metadata": {
        "id": "tNEn4gKduLyT"
      },
      "execution_count": null,
      "outputs": []
    },
    {
      "cell_type": "markdown",
      "source": [
        "**Penjelasan**:  \n",
        "Langkah ketiga ini mempersiapkan data untuk pemodelan dengan memilih fitur yang relevan, membagi data menjadi set pelatihan dan pengujian, serta melakukan skala data untuk meningkatkan kinerja model.  \n",
        "- **Pemilihan Fitur**:  \n",
        "  Kolom fitur yang relevan untuk analisis dipilih dalam variabel `features`, yang mencakup variabel numerik dan fitur hasil dari feature engineering sebelumnya. Kolom target `HARGA` dipisahkan sebagai variabel `y`.\n",
        "  \n",
        "- **Pembagian Data (Train-test Split)**:  \n",
        "  Data dibagi menjadi dua bagian menggunakan fungsi `train_test_split` dengan 80% untuk data pelatihan dan 20% untuk data pengujian. Ini membantu dalam evaluasi model yang lebih objektif.\n",
        "  \n",
        "- **Scaling Data (RobustScaler)**:  \n",
        "  Menggunakan **RobustScaler** untuk menormalkan data, yang lebih tahan terhadap outlier dibandingkan dengan metode standar seperti **StandardScaler**. Proses ini mengubah skala fitur agar model tidak terpengaruh oleh skala yang berbeda antara fitur, meningkatkan kinerja model.\n",
        "\n",
        "Dengan langkah ini, data siap untuk digunakan dalam proses pelatihan model yang lebih baik dan lebih stabil."
      ],
      "metadata": {
        "id": "TylcZmb9ubSM"
      }
    },
    {
      "cell_type": "markdown",
      "source": [
        "## **Langkah 4: Membangun dan Menyempurnakan Model dengan Hyperparameter Tuning**"
      ],
      "metadata": {
        "id": "Q59lXAcywuvD"
      }
    },
    {
      "cell_type": "code",
      "source": [
        "def build_and_tune_model(X_train, y_train):\n",
        "    # 4.1 Random Forest dengan GridSearchCV\n",
        "    rf_params = {\n",
        "        'n_estimators': [100, 200],\n",
        "        'max_depth': [10, 20, None],\n",
        "        'min_samples_split': [2, 5],\n",
        "        'min_samples_leaf': [1, 2]\n",
        "    }\n",
        "\n",
        "    rf = RandomForestRegressor(random_state=42)\n",
        "    rf_grid = GridSearchCV(rf, rf_params, cv=5, scoring='neg_mean_absolute_error', n_jobs=-1)\n",
        "    rf_grid.fit(X_train, y_train)\n",
        "\n",
        "    # 4.2 Gradient Boosting\n",
        "    gb_params = {\n",
        "        'n_estimators': [100, 200],\n",
        "        'learning_rate': [0.01, 0.1],\n",
        "        'max_depth': [3, 5]\n",
        "    }\n",
        "\n",
        "    gb = GradientBoostingRegressor(random_state=42)\n",
        "    gb_grid = GridSearchCV(gb, gb_params, cv=5, scoring='neg_mean_absolute_error', n_jobs=-1)\n",
        "    gb_grid.fit(X_train, y_train)\n",
        "\n",
        "    return rf_grid, gb_grid\n"
      ],
      "metadata": {
        "id": "Eeeaa-6QwqQL"
      },
      "execution_count": null,
      "outputs": []
    },
    {
      "cell_type": "markdown",
      "source": [
        "**Penjelasan**:  \n",
        "Pada langkah ini, dua model regresi yang berbeda dibangun dan disempurnakan menggunakan teknik tuning hyperparameter dengan **GridSearchCV** untuk mencari kombinasi parameter terbaik.  \n",
        "- **Random Forest dengan GridSearchCV**:  \n",
        "  Model **Random Forest** dioptimalkan menggunakan **GridSearchCV**, yang menguji berbagai kombinasi parameter untuk menemukan model terbaik berdasarkan **mean absolute error (MAE)**. Beberapa parameter yang diuji meliputi jumlah estimator (`n_estimators`), kedalaman maksimal pohon (`max_depth`), serta jumlah sampel minimal yang dibutuhkan untuk membagi node (`min_samples_split`) dan jumlah sampel minimal untuk membuat node daun (`min_samples_leaf`).\n",
        "\n",
        "- **Gradient Boosting dengan GridSearchCV**:  \n",
        "  Model **Gradient Boosting** juga disempurnakan dengan **GridSearchCV**. Beberapa parameter yang diuji untuk model ini adalah jumlah estimator (`n_estimators`), laju pembelajaran (`learning_rate`), dan kedalaman maksimal pohon (`max_depth`).\n",
        "\n",
        "Kedua model ini dilatih dengan data pelatihan (`X_train` dan `y_train`) menggunakan teknik validasi silang (`cv=5`) untuk mendapatkan estimasi kinerja yang lebih andal.\n",
        "\n",
        "Hasilnya adalah dua objek **GridSearchCV** yang berisi model dengan parameter terbaik yang telah disesuaikan."
      ],
      "metadata": {
        "id": "CeU3WpA-wrtB"
      }
    },
    {
      "cell_type": "markdown",
      "source": [
        "## **Langkah 5: Evaluasi Model dengan Metrik Kinerja**"
      ],
      "metadata": {
        "id": "LgEYXOKWxlGV"
      }
    },
    {
      "cell_type": "code",
      "source": [
        "def evaluate_models(models, X_test, y_test):\n",
        "    results = {}\n",
        "    for name, model in models.items():\n",
        "        predictions = model.predict(X_test)\n",
        "        mae = mean_absolute_error(y_test, predictions)\n",
        "        rmse = np.sqrt(mean_squared_error(y_test, predictions))\n",
        "        r2 = r2_score(y_test, predictions)\n",
        "\n",
        "        results[name] = {\n",
        "            'MAE': mae,\n",
        "            'RMSE': rmse,\n",
        "            'R2': r2\n",
        "        }\n",
        "\n",
        "        print(f\"\\nMetrik Evaluasi untuk {name}:\")\n",
        "        print(f\"MAE: Rp {mae:,.2f}\")\n",
        "        print(f\"RMSE: Rp {rmse:,.2f}\")\n",
        "        print(f\"R²: {r2:.3f}\")\n",
        "\n",
        "    return results"
      ],
      "metadata": {
        "id": "qCBQkwvp2Ptn"
      },
      "execution_count": null,
      "outputs": []
    },
    {
      "cell_type": "markdown",
      "source": [
        "**Penjelasan**:  \n",
        "Pada langkah ini, berbagai metrik evaluasi digunakan untuk menilai kinerja dari model-model yang telah dibangun sebelumnya. Fungsi `evaluate_models` menerima dua argumen utama: **models** (sebuah dictionary yang berisi model yang telah dilatih) dan **X_test** serta **y_test** sebagai data pengujian.\n",
        "\n",
        "Metrik evaluasi yang digunakan:\n",
        "- **MAE (Mean Absolute Error)**: Mengukur rata-rata kesalahan absolut antara harga yang diprediksi dan harga aktual, memberikan gambaran tentang seberapa besar kesalahan prediksi rata-rata.\n",
        "- **RMSE (Root Mean Squared Error)**: Mengukur akar kuadrat dari rata-rata kesalahan kuadrat. RMSE memberikan gambaran tentang seberapa besar kesalahan prediksi dengan penalti lebih besar untuk kesalahan yang lebih besar.\n",
        "- **R² (R-squared)**: Mengukur seberapa baik model menjelaskan variasi dalam data. Nilai R² mendekati 1 menunjukkan model yang baik dalam memprediksi hasil.\n",
        "\n",
        "Untuk setiap model dalam dictionary `models`, fungsi ini menghitung metrik tersebut dan mencetak hasil evaluasi. Semua hasil evaluasi disimpan dalam sebuah dictionary `results` untuk keperluan lebih lanjut."
      ],
      "metadata": {
        "id": "X382ttsn23iF"
      }
    },
    {
      "cell_type": "markdown",
      "source": [
        "## **Langkah 6: Visualisasi Hasil Prediksi**"
      ],
      "metadata": {
        "id": "NvSDXPPvyg-f"
      }
    },
    {
      "cell_type": "code",
      "source": [
        "def plot_results(models, X_test, y_test):\n",
        "    plt.figure(figsize=(15, 6))\n",
        "\n",
        "    for i, (name, model) in enumerate(models.items(), 1):\n",
        "        predictions = model.predict(X_test)\n",
        "\n",
        "        plt.subplot(1, 2, i)\n",
        "        plt.scatter(y_test, predictions, alpha=0.5)\n",
        "        plt.plot([y_test.min(), y_test.max()], [y_test.min(), y_test.max()], 'r--', lw=2)\n",
        "        plt.xlabel('Harga Aktual')\n",
        "        plt.ylabel('Harga Prediksi')\n",
        "        plt.title(f'Prediksi vs Aktual - {name}')\n",
        "\n",
        "    plt.tight_layout()\n",
        "    plt.show()"
      ],
      "metadata": {
        "id": "aiC-vNd6ywoO"
      },
      "execution_count": null,
      "outputs": []
    },
    {
      "cell_type": "markdown",
      "source": [
        "**Penjelasan**:  \n",
        "Pada langkah ini, fungsi `plot_results` digunakan untuk memvisualisasikan perbandingan antara harga yang diprediksi oleh model dan harga aktual (dari data uji) untuk masing-masing model. Fungsi ini membuat plot yang membandingkan hasil prediksi dengan nilai aktual dalam bentuk scatter plot.\n",
        "\n",
        "Fitur utama dari fungsi ini:\n",
        "- **Scatter plot**: Untuk setiap model yang diberikan, scatter plot akan menunjukkan titik-titik yang merepresentasikan harga aktual di sumbu x dan harga yang diprediksi oleh model di sumbu y. Titik-titik ini akan menunjukkan sejauh mana prediksi model mendekati harga sebenarnya.\n",
        "- **Garis referensi**: Garis merah putus-putus (`'r--'`) menunjukkan garis ideal di mana harga prediksi sama dengan harga aktual. Semakin dekat titik-titik dengan garis ini, semakin baik kinerja model dalam memprediksi harga.\n",
        "- **Subplots**: Fungsi ini menghasilkan dua subplot (satu untuk setiap model) dalam satu baris, memungkinkan perbandingan visual yang mudah antara dua model yang dievaluasi.\n",
        "\n",
        "Dengan menampilkan visualisasi ini, kita dapat lebih mudah memahami bagaimana performa model-model tersebut dalam memprediksi harga rumah."
      ],
      "metadata": {
        "id": "TA_N1jN9yk1O"
      }
    },
    {
      "cell_type": "markdown",
      "source": [
        "## **Langkah 7: Eksekusi Utama dan Integrasi Semua Langkah**"
      ],
      "metadata": {
        "id": "Ionlv76_zKlg"
      }
    },
    {
      "cell_type": "code",
      "source": [
        "def main():\n",
        "    # Baca data\n",
        "    df = pd.read_csv(\"data_rumah.csv\")\n",
        "\n",
        "    # Prepare data\n",
        "    df_cleaned = prepare_data(df)\n",
        "\n",
        "    # Preprocess data\n",
        "    X_train_scaled, X_test_scaled, y_train, y_test, scaler = preprocess_data(df_cleaned)\n",
        "\n",
        "    # Build and tune models\n",
        "    rf_model, gb_model = build_and_tune_model(X_train_scaled, y_train)\n",
        "\n",
        "    # Evaluate models\n",
        "    models = {\n",
        "        'Random Forest': rf_model.best_estimator_,\n",
        "        'Gradient Boosting': gb_model.best_estimator_\n",
        "    }\n",
        "\n",
        "    results = evaluate_models(models, X_test_scaled, y_test)\n",
        "\n",
        "    # Plot results\n",
        "    plot_results(models, X_test_scaled, y_test)\n",
        "\n",
        "    return models, scaler\n",
        "\n",
        "if __name__ == \"__main__\":\n",
        "    models, scaler = main()"
      ],
      "metadata": {
        "colab": {
          "base_uri": "https://localhost:8080/",
          "height": 707
        },
        "id": "gWdm1ATL0e1m",
        "outputId": "ebbd4f0e-9f4c-4d3c-ba04-126da95f3f4d"
      },
      "execution_count": null,
      "outputs": [
        {
          "output_type": "stream",
          "name": "stdout",
          "text": [
            "\n",
            "Metrik Evaluasi untuk Random Forest:\n",
            "MAE: Rp 1,026,505,867.58\n",
            "RMSE: Rp 1,452,379,881.55\n",
            "R²: 0.680\n",
            "\n",
            "Metrik Evaluasi untuk Gradient Boosting:\n",
            "MAE: Rp 1,034,015,348.56\n",
            "RMSE: Rp 1,492,548,191.79\n",
            "R²: 0.663\n"
          ]
        },
        {
          "output_type": "display_data",
          "data": {
            "text/plain": [
              "<Figure size 1500x600 with 2 Axes>"
            ],
            "image/png": "[encoded data removed]"
          },
          "metadata": {}
        }
      ]
    },
    {
      "cell_type": "markdown",
      "source": [
        "**Penjelasan**:  \n",
        "Pada langkah ini, fungsi `main()` bertindak sebagai eksekutor yang menggabungkan semua langkah-langkah sebelumnya untuk menjalankan seluruh pipeline dari pembacaan data hingga evaluasi model dan visualisasi hasil.\n",
        "\n",
        "Fitur utama dari fungsi ini:\n",
        "1. **Pembacaan Data**: Data dibaca dari file CSV (`data_rumah.csv`) dan disiapkan untuk diproses lebih lanjut dengan memanggil fungsi `prepare_data`.\n",
        "2. **Preprocessing Data**: Data yang sudah dibersihkan diproses lebih lanjut melalui `preprocess_data` yang mencakup pemilihan fitur, pembagian data menjadi train dan test, serta normalisasi.\n",
        "3. **Pembangunan dan Penalaan Model**: Model Random Forest dan Gradient Boosting dibangun dan dituning menggunakan `build_and_tune_model` dengan pencarian parameter terbaik menggunakan GridSearchCV.\n",
        "4. **Evaluasi Model**: Hasil prediksi dari kedua model dievaluasi dengan menggunakan metrik MAE, RMSE, dan R², yang dihitung dalam fungsi `evaluate_models`.\n",
        "5. **Visualisasi Hasil**: Hasil evaluasi divisualisasikan dengan scatter plot melalui fungsi `plot_results` untuk membandingkan prediksi dengan harga aktual.\n",
        "6. **Pengembalian Hasil**: Model yang sudah terlatih (dengan parameter terbaik) dan scaler dikembalikan untuk digunakan lebih lanjut atau disimpan.\n",
        "\n",
        "Fungsi `main()` ini akan dipanggil jika file dijalankan langsung, memastikan bahwa seluruh proses dari pembacaan data hingga evaluasi dan visualisasi model berjalan dengan baik."
      ],
      "metadata": {
        "id": "omkx8Zz-zQDw"
      }
    },
    {
      "cell_type": "markdown",
      "source": [
        "## **Langkah 8: Prediksi Harga Rumah Berdasarkan Spesifikasi**\n"
      ],
      "metadata": {
        "id": "KzsDh0al45ch"
      }
    },
    {
      "cell_type": "markdown",
      "source": [
        "----\n",
        "### Prediksi Satu Rumah"
      ],
      "metadata": {
        "id": "r57KDkY7_svf"
      }
    },
    {
      "cell_type": "code",
      "source": [
        "def predict_house_price(models, scaler, specs):\n",
        "    \"\"\"\n",
        "    Memprediksi harga rumah berdasarkan spesifikasi yang diberikan\n",
        "    \"\"\"\n",
        "    # Buat DataFrame dari spesifikasi\n",
        "    new_data = pd.DataFrame([specs])\n",
        "\n",
        "    # Feature engineering\n",
        "    new_data['LB_LT_RATIO'] = new_data['LB'] / new_data['LT']\n",
        "    new_data['ROOM_DENSITY'] = (new_data['KT'] + new_data['KM']) / new_data['LB']\n",
        "    new_data['TOTAL_ROOMS'] = new_data['KT'] + new_data['KM']\n",
        "\n",
        "    # Normalisasi data\n",
        "    new_data_scaled = scaler.transform(new_data)\n",
        "\n",
        "    # Pastikan kolom sesuai dengan yang digunakan saat pelatihan\n",
        "    new_data_scaled = pd.DataFrame(new_data_scaled, columns=new_data.columns)\n",
        "\n",
        "    # Prediksi dengan kedua model\n",
        "    results = {}\n",
        "    for name, model in models.items():\n",
        "        prediction = model.predict(new_data_scaled)[0]\n",
        "        results[name] = prediction\n",
        "\n",
        "    return results\n",
        "\n",
        "# Contoh penggunaan:\n",
        "# Masukkan spesifikasi rumah yang diinginkan\n",
        "house_specs = {\n",
        "    'LB': 250,    # Luas Bangunan (m²)\n",
        "    'LT': 300,    # Luas Tanah (m²)\n",
        "    'KT': 4,      # Jumlah Kamar Tidur\n",
        "    'KM': 3,      # Jumlah Kamar Mandi\n",
        "    'GRS': 2      # Kapasitas Garasi\n",
        "}\n",
        "\n",
        "# Lakukan prediksi\n",
        "predictions = predict_house_price(models, scaler, house_specs)\n",
        "\n",
        "# Tampilkan hasil prediksi dengan format yang rapi\n",
        "print(\"\\nSpesifikasi Rumah:\")\n",
        "print(f\"Luas Bangunan: {house_specs['LB']} m²\")\n",
        "print(f\"Luas Tanah: {house_specs['LT']} m²\")\n",
        "print(f\"Kamar Tidur: {house_specs['KT']}\")\n",
        "print(f\"Kamar Mandi: {house_specs['KM']}\")\n",
        "print(f\"Kapasitas Garasi: {house_specs['GRS']}\")\n",
        "\n",
        "print(\"\\nPrediksi Harga:\")\n",
        "for model_name, price in predictions.items():\n",
        "    print(f\"{model_name}: Rp {price:,.2f}\")"
      ],
      "metadata": {
        "colab": {
          "base_uri": "https://localhost:8080/"
        },
        "id": "6Tz0iLKq47wu",
        "outputId": "31935ac7-914f-4363-f2af-a7b357ec7062"
      },
      "execution_count": null,
      "outputs": [
        {
          "output_type": "stream",
          "name": "stdout",
          "text": [
            "\n",
            "Spesifikasi Rumah:\n",
            "Luas Bangunan: 250 m²\n",
            "Luas Tanah: 300 m²\n",
            "Kamar Tidur: 4\n",
            "Kamar Mandi: 3\n",
            "Kapasitas Garasi: 2\n",
            "\n",
            "Prediksi Harga:\n",
            "Random Forest: Rp 7,682,419,940.48\n",
            "Gradient Boosting: Rp 7,801,029,588.55\n"
          ]
        }
      ]
    },
    {
      "cell_type": "markdown",
      "source": [
        "---\n",
        "### Prediksi Banyak Rumah"
      ],
      "metadata": {
        "id": "giXtqNI2_we_"
      }
    },
    {
      "cell_type": "code",
      "source": [
        "# Fungsi untuk memprediksi multiple rumah\n",
        "def predict_multiple_houses(models, scaler, houses_list):\n",
        "    \"\"\"\n",
        "    Memprediksi harga untuk beberapa rumah sekaligus\n",
        "    \"\"\"\n",
        "    results = []\n",
        "    for i, specs in enumerate(houses_list, 1):\n",
        "        predictions = predict_house_price(models, scaler, specs)\n",
        "        results.append({\n",
        "            'Rumah': i,\n",
        "            'Spesifikasi': specs,\n",
        "            'Prediksi': predictions\n",
        "        })\n",
        "    return results\n",
        "\n",
        "# Contoh penggunaan untuk multiple rumah\n",
        "houses = [\n",
        "    {\n",
        "        'LB': 250, 'LT': 300, 'KT': 4, 'KM': 3, 'GRS': 2\n",
        "    },\n",
        "    {\n",
        "        'LB': 320, 'LT': 400, 'KT': 5, 'KM': 4, 'GRS': 3\n",
        "    },\n",
        "    {\n",
        "        'LB': 180, 'LT': 200, 'KT': 3, 'KM': 2, 'GRS': 1\n",
        "    }\n",
        "]\n",
        "\n",
        "# Prediksi multiple rumah\n",
        "print(\"\\nPrediksi Multiple Rumah:\")\n",
        "results = predict_multiple_houses(models, scaler, houses)\n",
        "\n",
        "# Tampilkan hasil\n",
        "for result in results:\n",
        "    print(f\"\\nRumah {result['Rumah']}:\")\n",
        "    specs = result['Spesifikasi']\n",
        "    print(f\"Spesifikasi: {specs['LB']}m² LB, {specs['LT']}m² LT, \"\n",
        "          f\"{specs['KT']} KT, {specs['KM']} KM, {specs['GRS']} Garasi\")\n",
        "    print(\"Prediksi Harga:\")\n",
        "    for model_name, price in result['Prediksi'].items():\n",
        "        print(f\"{model_name}: Rp {price:,.2f}\")"
      ],
      "metadata": {
        "colab": {
          "base_uri": "https://localhost:8080/"
        },
        "id": "hm8AiElw_onp",
        "outputId": "5e24e1d4-c003-4085-84b0-fc52e90faabe"
      },
      "execution_count": null,
      "outputs": [
        {
          "output_type": "stream",
          "name": "stdout",
          "text": [
            "\n",
            "Prediksi Multiple Rumah:\n",
            "\n",
            "Rumah 1:\n",
            "Spesifikasi: 250m² LB, 300m² LT, 4 KT, 3 KM, 2 Garasi\n",
            "Prediksi Harga:\n",
            "Random Forest: Rp 7,682,419,940.48\n",
            "Gradient Boosting: Rp 7,801,029,588.55\n",
            "\n",
            "Rumah 2:\n",
            "Spesifikasi: 320m² LB, 400m² LT, 5 KT, 4 KM, 3 Garasi\n",
            "Prediksi Harga:\n",
            "Random Forest: Rp 8,958,624,578.05\n",
            "Gradient Boosting: Rp 9,114,969,462.31\n",
            "\n",
            "Rumah 3:\n",
            "Spesifikasi: 180m² LB, 200m² LT, 3 KT, 2 KM, 1 Garasi\n",
            "Prediksi Harga:\n",
            "Random Forest: Rp 5,145,434,126.98\n",
            "Gradient Boosting: Rp 5,417,468,169.64\n"
          ]
        }
      ]
    },
    {
      "cell_type": "markdown",
      "source": [
        "**Penjelasan**:  \n",
        "Pada langkah ini, kita menambahkan dua fungsi untuk memprediksi harga rumah berdasarkan spesifikasi yang diberikan.\n",
        "\n",
        "1. **Fungsi `predict_house_price`**:  \n",
        "   Fungsi ini menerima model yang telah dilatih, scaler untuk normalisasi data, dan spesifikasi rumah yang ingin diprediksi.\n",
        "   - Pertama, data spesifikasi rumah diubah menjadi DataFrame.\n",
        "   - Kemudian dilakukan feature engineering seperti perhitungan rasio luas bangunan terhadap luas tanah, densitas ruangan, dan total jumlah ruangan.\n",
        "   - Data baru kemudian dinormalisasi menggunakan scaler yang sudah ditentukan sebelumnya.\n",
        "   - Prediksi harga rumah dilakukan menggunakan model yang telah dilatih (baik Random Forest maupun Gradient Boosting), dan hasilnya dikembalikan dalam bentuk dictionary dengan nama model sebagai kunci dan harga prediksi sebagai nilai.\n",
        "\n",
        "2. **Fungsi `predict_multiple_houses`**:  \n",
        "   Fungsi ini memungkinkan prediksi untuk beberapa rumah sekaligus.\n",
        "   - Fungsi ini menerima daftar spesifikasi rumah dan memanggil fungsi `predict_house_price` untuk setiap rumah dalam daftar.\n",
        "   - Hasil prediksi untuk masing-masing rumah disimpan dalam list yang kemudian dikembalikan.\n",
        "\n",
        "**Contoh Penggunaan**:  \n",
        "- `predict_house_price` digunakan untuk memprediksi harga rumah dengan memasukkan spesifikasi rumah tertentu seperti luas bangunan, luas tanah, jumlah kamar tidur, kamar mandi, dan kapasitas garasi.\n",
        "- `predict_multiple_houses` digunakan untuk memprediksi harga beberapa rumah sekaligus dengan daftar spesifikasi rumah yang diberikan.\n",
        "  \n",
        "Hasil prediksi ditampilkan dengan format yang mudah dibaca, menunjukkan harga yang diprediksi untuk masing-masing model yang digunakan."
      ],
      "metadata": {
        "id": "6AisC11t-R9P"
      }
    }
  ]
}